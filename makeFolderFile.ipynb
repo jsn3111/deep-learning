{
  "nbformat": 4,
  "nbformat_minor": 0,
  "metadata": {
    "colab": {
      "provenance": [],
      "authorship_tag": "ABX9TyO7YbR3HNAQKB9RoMJdWl09",
      "include_colab_link": true
    },
    "kernelspec": {
      "name": "python3",
      "display_name": "Python 3"
    },
    "language_info": {
      "name": "python"
    }
  },
  "cells": [
    {
      "cell_type": "markdown",
      "metadata": {
        "id": "view-in-github",
        "colab_type": "text"
      },
      "source": [
        "<a href=\"https://colab.research.google.com/github/jsn3111/deep-learning/blob/master/makeFolderFile.ipynb\" target=\"_parent\"><img src=\"https://colab.research.google.com/assets/colab-badge.svg\" alt=\"Open In Colab\"/></a>"
      ]
    },
    {
      "cell_type": "code",
      "execution_count": 1,
      "metadata": {
        "colab": {
          "base_uri": "https://localhost:8080/"
        },
        "id": "FWkPuUwD5Wbp",
        "outputId": "fcc5cf1a-f479-47e9-cc3a-35a44b615f9b"
      },
      "outputs": [
        {
          "output_type": "stream",
          "name": "stdout",
          "text": [
            "Mounted at /content/drive\n",
            "Folder '/content/drive/My Drive/20240729_folder' created\n",
            "File '/content/drive/My Drive/20240729_folder/example.txt' saved\n"
          ]
        }
      ],
      "source": [
        "from google.colab import drive\n",
        "import os\n",
        "\n",
        "# Step 1: Google Drive 마운트\n",
        "drive.mount('/content/drive')\n",
        "\n",
        "# Step 2: 폴더 생성\n",
        "folder_path = '/content/drive/My Drive/20240729_folder'\n",
        "if not os.path.exists(folder_path):\n",
        "    os.makedirs(folder_path)\n",
        "    print(f\"Folder '{folder_path}' created\")\n",
        "else:\n",
        "    print(f\"Folder '{folder_path}' already exists\")\n",
        "\n",
        "# Step 3: 파일 저장\n",
        "file_path = os.path.join(folder_path, 'example.txt')\n",
        "with open(file_path, 'w') as f:\n",
        "    f.write(\"This is an example file.\")\n",
        "\n",
        "print(f\"File '{file_path}' saved\")\n"
      ]
    }
  ]
}